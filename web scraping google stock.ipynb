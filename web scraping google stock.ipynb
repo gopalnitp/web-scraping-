{
 "cells": [
  {
   "cell_type": "code",
   "execution_count": 2,
   "metadata": {},
   "outputs": [],
   "source": [
    "import numpy as np\n",
    "import matplotlib.pyplot as plt\n",
    "import pandas as pd\n",
    "import requests\n",
    "from bs4 import BeautifulSoup"
   ]
  },
  {
   "cell_type": "code",
   "execution_count": 3,
   "metadata": {},
   "outputs": [],
   "source": [
    "url=\"https://www.nasdaq.com/symbol/goog/historical\""
   ]
  },
  {
   "cell_type": "code",
   "execution_count": 4,
   "metadata": {},
   "outputs": [
    {
     "name": "stdout",
     "output_type": "stream",
     "text": [
      "<class 'requests.models.Response'>\n",
      "200\n"
     ]
    }
   ],
   "source": [
    "r = requests.get(url)\n",
    "print type(r)\n",
    "\n",
    "print r.status_code"
   ]
  },
  {
   "cell_type": "code",
   "execution_count": 5,
   "metadata": {},
   "outputs": [],
   "source": [
    "soup = BeautifulSoup(r.text, 'html.parser')\n",
    "\n"
   ]
  },
  {
   "cell_type": "code",
   "execution_count": 6,
   "metadata": {},
   "outputs": [],
   "source": [
    "table=soup.find_all('table')"
   ]
  },
  {
   "cell_type": "code",
   "execution_count": 7,
   "metadata": {},
   "outputs": [
    {
     "data": {
      "text/plain": [
       "5"
      ]
     },
     "execution_count": 7,
     "metadata": {},
     "output_type": "execute_result"
    }
   ],
   "source": [
    "len(table)"
   ]
  },
  {
   "cell_type": "code",
   "execution_count": 8,
   "metadata": {},
   "outputs": [
    {
     "data": {
      "text/plain": [
       "<table class=\"marginL5px\" width=\"415\">\\n<tr><td>\\xa0</td></tr>\\n<tr><td><h2>Symbol Lookup</h2></td></tr>\\n</table>"
      ]
     },
     "execution_count": 8,
     "metadata": {},
     "output_type": "execute_result"
    }
   ],
   "source": [
    "table[0]"
   ]
  },
  {
   "cell_type": "code",
   "execution_count": 9,
   "metadata": {},
   "outputs": [
    {
     "data": {
      "text/plain": [
       "<table class=\"backdrop\" id=\"customModal\">\\n<tr>\\n<td>\\n<!-- begin lightboxness -->\\n<div class=\"lightbox\" id=\"followPromo\">\\n<!-- close button-->\\n<span class=\"close\" onclick=\"close_modal()\">CLOSE<span class=\"x\">X</span></span>\\n<h2>Investing just got easier\\u2026</h2>\\n<h4>Sign up now to become a NASDAQ.com member and begin receiving instant notifications when key events occur that affect the stocks you follow.</h4>\\n<a class=\"faux-button lightgreen-button\" href=\"https://community.nasdaq.com/\" onclick=\"triggerAsyncOmnitureClickEvent('quotes:faux-follow:access-now')\">\\n<span>Access Now</span>\\n</a>\\n<div class=\"clearB\"></div>\\n</div>\\n<!-- end lightboxness -->\\n</td>\\n</tr>\\n</table>"
      ]
     },
     "execution_count": 9,
     "metadata": {},
     "output_type": "execute_result"
    }
   ],
   "source": [
    "table[1]"
   ]
  },
  {
   "cell_type": "code",
   "execution_count": 11,
   "metadata": {},
   "outputs": [],
   "source": [
    "table[2] \"\"\"requried table\"\"\""
   ]
  },
  {
   "cell_type": "code",
   "execution_count": 12,
   "metadata": {},
   "outputs": [],
   "source": [
    "Tbody=table[2].find_all(\"tbody\")"
   ]
  },
  {
   "cell_type": "code",
   "execution_count": 16,
   "metadata": {},
   "outputs": [],
   "source": [
    "## Tbody \"\"\" it contains all row and columns\"\"\""
   ]
  },
  {
   "cell_type": "code",
   "execution_count": 23,
   "metadata": {},
   "outputs": [],
   "source": [
    "row=Tbody[0].find_all(\"tr\")\n"
   ]
  },
  {
   "cell_type": "code",
   "execution_count": 135,
   "metadata": {},
   "outputs": [],
   "source": [
    "ignore=[\" \",\"<td>\",\"</td>\",\"\\r\\n\"]"
   ]
  },
  {
   "cell_type": "code",
   "execution_count": 151,
   "metadata": {},
   "outputs": [],
   "source": [
    "data=[]\n",
    "for ix in range(2,len(row)):\n",
    "    colum=row[ix].find_all(\"td\")\n",
    "    tmdata=[]\n",
    "    for ixx in range(len(colum)):\n",
    "        name=colum[ixx].encode('utf-8')\n",
    "        name=name.replace(\" \",\"\")\n",
    "        name=name.replace(\"<td>\",\"\")\n",
    "        name=name.replace(\"</td>\",\"\")\n",
    "        name=name.replace(\"\\r\\n\",\"\")\n",
    "        \n",
    "        \n",
    "        tmdata.append(name)\n",
    "    \n",
    "    \n",
    "                                                                          #for iix in range(1,6):\n",
    "                                                                              # tmdata[iix]=yaml.load(tmdata[iix])\n",
    "        \n",
    "    data.append(tmdata)\n",
    "                     \n",
    "        \n",
    "        \n",
    "        \n",
    "    "
   ]
  },
  {
   "cell_type": "code",
   "execution_count": 152,
   "metadata": {},
   "outputs": [],
   "source": [
    "import numpy as np\n",
    "import pandas as pd\n",
    "data=np.array(data)\n",
    "data=pd.DataFrame(data,columns=[\"DATE\",\"OPEN\",\"HIGH\",\"LOW CLOSE\",\"LAST\",\"VOLUME\"])\n",
    "data.to_csv(\"GOOG.csv\",index=\"False\")\n",
    "\n",
    "\n"
   ]
  },
  {
   "cell_type": "code",
   "execution_count": 153,
   "metadata": {},
   "outputs": [],
   "source": [
    "data=pd.read_csv('GOOG.csv')"
   ]
  },
  {
   "cell_type": "code",
   "execution_count": 154,
   "metadata": {},
   "outputs": [
    {
     "data": {
      "text/html": [
       "<div>\n",
       "<style scoped>\n",
       "    .dataframe tbody tr th:only-of-type {\n",
       "        vertical-align: middle;\n",
       "    }\n",
       "\n",
       "    .dataframe tbody tr th {\n",
       "        vertical-align: top;\n",
       "    }\n",
       "\n",
       "    .dataframe thead th {\n",
       "        text-align: right;\n",
       "    }\n",
       "</style>\n",
       "<table border=\"1\" class=\"dataframe\">\n",
       "  <thead>\n",
       "    <tr style=\"text-align: right;\">\n",
       "      <th></th>\n",
       "      <th>Unnamed: 0</th>\n",
       "      <th>DATE</th>\n",
       "      <th>OPEN</th>\n",
       "      <th>HIGH</th>\n",
       "      <th>LOW CLOSE</th>\n",
       "      <th>LAST</th>\n",
       "      <th>VOLUME</th>\n",
       "    </tr>\n",
       "  </thead>\n",
       "  <tbody>\n",
       "    <tr>\n",
       "      <th>0</th>\n",
       "      <td>0</td>\n",
       "      <td>12/07/2018</td>\n",
       "      <td>1060.01</td>\n",
       "      <td>1075.26</td>\n",
       "      <td>1028.5000</td>\n",
       "      <td>1036.58</td>\n",
       "      <td>2,098,526</td>\n",
       "    </tr>\n",
       "    <tr>\n",
       "      <th>1</th>\n",
       "      <td>1</td>\n",
       "      <td>12/06/2018</td>\n",
       "      <td>1034.26</td>\n",
       "      <td>1071.20</td>\n",
       "      <td>1030.7701</td>\n",
       "      <td>1068.73</td>\n",
       "      <td>2,758,098</td>\n",
       "    </tr>\n",
       "    <tr>\n",
       "      <th>2</th>\n",
       "      <td>2</td>\n",
       "      <td>12/04/2018</td>\n",
       "      <td>1103.12</td>\n",
       "      <td>1104.42</td>\n",
       "      <td>1049.9800</td>\n",
       "      <td>1050.82</td>\n",
       "      <td>2,278,200</td>\n",
       "    </tr>\n",
       "  </tbody>\n",
       "</table>\n",
       "</div>"
      ],
      "text/plain": [
       "   Unnamed: 0        DATE     OPEN     HIGH  LOW CLOSE     LAST     VOLUME\n",
       "0           0  12/07/2018  1060.01  1075.26  1028.5000  1036.58  2,098,526\n",
       "1           1  12/06/2018  1034.26  1071.20  1030.7701  1068.73  2,758,098\n",
       "2           2  12/04/2018  1103.12  1104.42  1049.9800  1050.82  2,278,200"
      ]
     },
     "execution_count": 154,
     "metadata": {},
     "output_type": "execute_result"
    }
   ],
   "source": [
    "data.head(n=3)"
   ]
  },
  {
   "cell_type": "code",
   "execution_count": null,
   "metadata": {},
   "outputs": [],
   "source": []
  }
 ],
 "metadata": {
  "kernelspec": {
   "display_name": "Python 2",
   "language": "python",
   "name": "python2"
  },
  "language_info": {
   "codemirror_mode": {
    "name": "ipython",
    "version": 2
   },
   "file_extension": ".py",
   "mimetype": "text/x-python",
   "name": "python",
   "nbconvert_exporter": "python",
   "pygments_lexer": "ipython2",
   "version": "2.7.15rc1"
  }
 },
 "nbformat": 4,
 "nbformat_minor": 2
}
